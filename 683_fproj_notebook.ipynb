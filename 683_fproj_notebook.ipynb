{
 "cells": [
  {
   "cell_type": "code",
   "execution_count": null,
   "id": "82ff9d2c",
   "metadata": {},
   "outputs": [],
   "source": [
    "import numpy as np\n",
    "import pandas as pd\n",
    "import seaborn as sns\n",
    "import matplotlib.pyplot as plt\n",
    "import geopandas as gpd\n",
    "from functools import reduce"
   ]
  },
  {
   "cell_type": "markdown",
   "id": "1dc5ae4b",
   "metadata": {},
   "source": [
    "## 1. Load and process ACS and county shapefile data"
   ]
  },
  {
   "cell_type": "code",
   "execution_count": null,
   "id": "ec6418bb",
   "metadata": {},
   "outputs": [],
   "source": [
    "# ID columns for study\n",
    "cols = {'DP02_0002PE' : 'married',\n",
    "        'DP02_0004PE' : 'cohab',\n",
    "        'DP02_0016E'  : 'avg_hhsz', \n",
    "        'DP02_0068PE' : 'pct_educ',\n",
    "        'DP02_0093PE' : 'pct_fb',\n",
    "        'DP03_0009PE' : 'unempl',\n",
    "        'DP03_0025E'  : 'mean_com',\n",
    "        'DP03_0033PE' : 'pct_ag',\n",
    "        'DP03_0035PE' : 'pct_manu',\n",
    "        'DP03_0062E'  : 'med_inc',\n",
    "        'DP03_0128PE' : 'pct_pov',\n",
    "        'DP04_0047PE' : 'pct_rent',\n",
    "        'DP04_0058PE' : 'pct_no_veh',\n",
    "        'DP04_0089E'  : 'med_hval',\n",
    "        'DP04_0134E'  : 'med_rent',\n",
    "        'DP05_0001E'  : 'pop',\n",
    "        'DP05_0019PE' : 'pct_un18',\n",
    "        'DP05_0024PE' : 'pct_ov65',\n",
    "        'DP05_0038PE' : 'pct_bl',\n",
    "        'DP05_0044PE' : 'pct_as',\n",
    "        'DP05_0071PE' : 'pct_hisp'}"
   ]
  },
  {
   "cell_type": "code",
   "execution_count": null,
   "id": "95d98c43",
   "metadata": {},
   "outputs": [],
   "source": [
    "# suppress mixed data type warnings\n",
    "import warnings\n",
    "warnings.filterwarnings(\"ignore\")\n",
    "\n",
    "# load acs data\n",
    "path = 'acs2019/acs2019_DP0'\n",
    "#skip = [1]\n",
    "dp02 = pd.read_csv(path + '2.csv',)# skiprows=skip)\n",
    "dp03 = pd.read_csv(path + '3.csv',)# skiprows=skip)\n",
    "dp04 = pd.read_csv(path + '4.csv',) #skiprows=skip)\n",
    "dp05 = pd.read_csv(path + '5.csv',)# skiprows=skip)"
   ]
  },
  {
   "cell_type": "code",
   "execution_count": null,
   "id": "97f0f35b",
   "metadata": {},
   "outputs": [],
   "source": [
    "# merge all acs tables\n",
    "acs_lst = [dp02, dp03, dp04, dp05]\n",
    "acs = reduce(lambda left, right: pd.merge(left, right, on=['GEO_ID', 'NAME'], how='inner'), acs_lst)\n",
    "\n",
    "# rename acs cols using dict\n",
    "acs = acs.rename(columns=cols)"
   ]
  },
  {
   "cell_type": "code",
   "execution_count": null,
   "id": "81afda72",
   "metadata": {},
   "outputs": [],
   "source": [
    "# drop unneeded cols, remove weird first row, trim GEOID for shp merge, and remove duped cols\n",
    "acs = acs[acs.columns.drop(list(acs.filter(regex='DP0')))]\n",
    "acs = acs[1:]\n",
    "acs['GEO_ID'] = acs['GEO_ID'].str.replace('0500000US', '')\n",
    "#acs = acs.loc[:,~acs.columns.duplicated()]"
   ]
  },
  {
   "cell_type": "code",
   "execution_count": null,
   "id": "f5ab70a8",
   "metadata": {},
   "outputs": [],
   "source": [
    "# merge w shp\n",
    "ct = gpd.read_file('../668 final project/source_files/contig_us_county')\n",
    "gdf = ct.merge(acs, how='inner', left_on='GEOID', right_on='GEO_ID', suffixes=('_SH',''))\n",
    "\n",
    "# drop unneeded shp cols\n",
    "gdf = gdf.drop(columns=['GEO_ID', 'LSAD', 'CLASSFP', 'MTFCC', 'CSAFP', 'METDIVFP',\n",
    "                        'FUNCSTAT', 'INTPTLAT', 'INTPTLON', 'CBSAFP'])\n",
    "gdf.plot()"
   ]
  },
  {
   "cell_type": "code",
   "execution_count": null,
   "id": "e88b7fbc",
   "metadata": {},
   "outputs": [],
   "source": [
    "# create list of variable names, remove strings, convert vars to float\n",
    "var = list(cols.values())\n",
    "gdf[var] = gdf[var].replace(['N', '-'], np.nan)\n",
    "gdf[var] = gdf[var].astype('float')\n",
    "\n",
    "# verify (false is good)\n",
    "(gdf[var].dtypes == 'O').any()"
   ]
  },
  {
   "cell_type": "code",
   "execution_count": null,
   "id": "46e85b56",
   "metadata": {},
   "outputs": [],
   "source": [
    "# create state column and drop leftover col\n",
    "gdf[['NAME', 'STATE']] = gdf['NAME'].str.split(', ', expand=True)\n",
    "gdf = gdf.drop(columns=['NAMELSAD'])"
   ]
  },
  {
   "cell_type": "code",
   "execution_count": null,
   "id": "4efef99a",
   "metadata": {},
   "outputs": [],
   "source": [
    "# add state abbrev, region, and division cols (drop )\n",
    "url = 'https://raw.githubusercontent.com/cphalpert/census-regions/master/us%20census%20bureau%20regions%20and%20divisions.csv'\n",
    "reg = pd.read_csv(url, encoding = 'ISO-8859-1', delimiter=',')#, index_col='st')\n",
    "gdf = gdf.merge(reg, how='left', left_on='STATE', right_on='State')\n",
    "gdf = gdf.drop(columns=['STATE'])"
   ]
  },
  {
   "cell_type": "markdown",
   "id": "e6b21cdf",
   "metadata": {},
   "source": [
    "## 2. Preliminary analysis"
   ]
  },
  {
   "cell_type": "code",
   "execution_count": null,
   "id": "2f11126d",
   "metadata": {},
   "outputs": [],
   "source": [
    "# add pop density column (pop/km) and append to vars list (if not already in there)\n",
    "gdf['pop_dens'] = gdf['pop'] / (gdf['ALAND'] / 1000)\n",
    "\n",
    "if 'pop_dens' in var:\n",
    "    pass\n",
    "else:\n",
    "    var.append('pop_dens')"
   ]
  },
  {
   "cell_type": "code",
   "execution_count": null,
   "id": "80620a8f",
   "metadata": {},
   "outputs": [],
   "source": [
    "# product summary stats table for all counties\n",
    "for x in [var]:\n",
    "    summ = pd.DataFrame(gdf[x].describe().round(2)).T\n",
    "summ"
   ]
  },
  {
   "cell_type": "code",
   "execution_count": null,
   "id": "bd00e2b4",
   "metadata": {},
   "outputs": [],
   "source": [
    "# summary stats table by Region\n",
    "gdf.groupby('Region')[var].mean().round(2).T"
   ]
  },
  {
   "cell_type": "raw",
   "id": "f664af56",
   "metadata": {},
   "source": [
    "# use USA Contiguous Equidistant Conic projection\n",
    "us_crs = 'ESRI:102005'\n",
    "gdf.to_crs(us_crs)"
   ]
  },
  {
   "cell_type": "code",
   "execution_count": null,
   "id": "fd834678",
   "metadata": {},
   "outputs": [],
   "source": [
    "# plot US divisions\n",
    "fig, ax = plt.subplots(figsize=(10, 10))\n",
    "gdf.plot(ax=ax,\n",
    "         column='Division',\n",
    "         edgecolor='white',\n",
    "         linewidth=0.1)\n",
    "\n",
    "plt.title(label='US FIPS Divisions')\n",
    "ax.set_axis_off()"
   ]
  },
  {
   "cell_type": "code",
   "execution_count": null,
   "id": "600ed700",
   "metadata": {},
   "outputs": [],
   "source": [
    "# plot cohabitation rate\n",
    "fig, ax = plt.subplots(figsize=(10, 10))\n",
    "gdf.plot(ax=ax,\n",
    "         column='cohab',\n",
    "         cmap='viridis',\n",
    "         edgecolor='white',\n",
    "         linewidth=0.1,\n",
    "         legend=True,\n",
    "         legend_kwds={'shrink': 0.5})\n",
    "\n",
    "plt.title(label='Cohabitating Household Percentage')\n",
    "ax.set_axis_off()"
   ]
  },
  {
   "cell_type": "code",
   "execution_count": null,
   "id": "af635076",
   "metadata": {},
   "outputs": [],
   "source": [
    "# investigate the clear outlier\n",
    "gdf[gdf['cohab'] > 13].sort_values(by='cohab', ascending=False)"
   ]
  },
  {
   "cell_type": "code",
   "execution_count": null,
   "id": "847240d6",
   "metadata": {},
   "outputs": [],
   "source": [
    "# plot marriage rates\n",
    "fig, ax = plt.subplots(figsize=(10, 10))\n",
    "g = gdf.plot(ax=ax,\n",
    "             column='married',\n",
    "             cmap='viridis',\n",
    "             edgecolor='white',\n",
    "             linewidth=0.1,\n",
    "             legend=True,\n",
    "             legend_kwds={'shrink': 0.5})\n",
    "\n",
    "plt.title(label='Married Household Percentage')\n",
    "ax.set_axis_off()"
   ]
  },
  {
   "cell_type": "code",
   "execution_count": null,
   "id": "6d97fd75",
   "metadata": {},
   "outputs": [],
   "source": [
    "# plot log pop (and pop dens)\n",
    "gdf['log_pop'] = np.log(gdf['pop'])\n",
    "gdf['log_pop_dens'] = np.log(gdf['pop_dens'])\n",
    "\n",
    "graph = 'log_pop'\n",
    "fig, ax = plt.subplots(figsize=(10, 10))\n",
    "g = gdf.plot(ax=ax,\n",
    "             column=graph,\n",
    "             cmap='viridis',\n",
    "             edgecolor='white',\n",
    "             linewidth=0.1,\n",
    "             legend=True,\n",
    "             legend_kwds={'shrink': 0.5})\n",
    "\n",
    "plt.title(label=graph)\n",
    "ax.set_axis_off()"
   ]
  },
  {
   "cell_type": "raw",
   "id": "50bfd9ac",
   "metadata": {},
   "source": [
    "gdf['lnpopXcohab'] = gdf['log_pop'] * gdf['cohab']\n",
    "\n",
    "graph = 'lnpopXcohab'\n",
    "fig, ax = plt.subplots(figsize=(10, 10))\n",
    "g = gdf.plot(ax=ax,\n",
    "             column=graph,\n",
    "             cmap='viridis',\n",
    "             edgecolor='white',\n",
    "             linewidth=0.1,\n",
    "             legend=True,\n",
    "             legend_kwds={'shrink': 0.5})\n",
    "\n",
    "plt.title(label=graph)\n",
    "ax.set_axis_off()"
   ]
  },
  {
   "cell_type": "code",
   "execution_count": null,
   "id": "41e43e9f",
   "metadata": {},
   "outputs": [],
   "source": []
  }
 ],
 "metadata": {
  "kernelspec": {
   "display_name": "Python (ppd599)",
   "language": "python",
   "name": "ppd599"
  },
  "language_info": {
   "codemirror_mode": {
    "name": "ipython",
    "version": 3
   },
   "file_extension": ".py",
   "mimetype": "text/x-python",
   "name": "python",
   "nbconvert_exporter": "python",
   "pygments_lexer": "ipython3",
   "version": "3.9.2"
  }
 },
 "nbformat": 4,
 "nbformat_minor": 5
}
