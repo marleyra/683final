{
 "cells": [
  {
   "cell_type": "markdown",
   "metadata": {},
   "source": [
    "# Spatial Models\n",
    "\n",
    "Overview of today's topics:\n",
    "\n",
    "  - quick refresher\n",
    "  - spatial fixed effects\n",
    "  - spatial regimes\n",
    "  - spatial lag\n",
    "  - spatial error\n",
    "  - geographically-weighted regression\n",
    "  \n",
    "## 1. Quick refresher\n",
    "\n",
    "### 1.1. Theory and models\n",
    "\n",
    "**Spatial models** are models that include geographic information to account for spatial relationships and processes. They can take on many different forms:\n",
    "\n",
    "  - Spatially-explicit regression models (with [PySAL](https://pysal.org))\n",
    "  - Agent-based models and/or cellular automata (with [Mesa](https://mesa.readthedocs.io/))\n",
    "  - Bayesian spatial models using Markov chain Monte Carlo methods (with [PyMC3](https://docs.pymc.io/))\n",
    "\n",
    "We will focus on spatially-explicit regression models here. Spatially-explicit regression models are a type of **statistical model**: sets of assumptions plus mathematical relationships between variables, producing a formal representation of some theory. We are essentially trying to explain the process underlying the generation of our observed data. **Spatial inference** introduces explicit spatial relationships into the statistical modeling framework, as both theory-driven (e.g., spatial spillovers) and data-driven (e.g., MAUP) issues could otherwise violate modeling assumptions.\n",
    "\n",
    "### 1.2. Statistical inference refresher\n",
    "\n",
    "**Statistical inference** is the process of using a sample to *infer* the characteristics of an underlying population (from which this sample was drawn) through estimation and hypothesis testing. What is the probability distribution (the probabilities of occurrence of different possible outcome values of our response variable)? Contrast this with descriptive statistics, which focus simply on describing the characteristics of the sample itself.\n",
    "\n",
    "Common goals of inferential statistics include:\n",
    "\n",
    "  - parameter estimation and confidence intervals\n",
    "  - hypothesis rejection\n",
    "  - prediction and explanation\n",
    "  - model selection\n",
    "\n",
    "Schools of statistical inference:\n",
    "\n",
    "  - frequentist\n",
    "    - frequentists think of probability as proportion of time some outcome occurs (relative frequency)\n",
    "    - given lots of repeated trials, how likely is the observed outcome?\n",
    "    - concepts: statistical hypothesis testing, *p*-values, confidence intervals\n",
    "  - bayesian\n",
    "    - bayesians think of probability as amount of certainty observer has about an outcome occurring (subjective probability)\n",
    "    - probability as a measure of how much info the observer has about the real world, updated as info changes\n",
    "    - concepts: prior probability, likelihood, bayes' rule, posterior probability\n",
    "    \n",
    "### 1.3. Regression refresher\n",
    "\n",
    "This course presumes you're already comfortable with multiple regression and OLS, as a prerequisite.\n",
    "\n",
    "Regression assumptions:\n",
    "\n",
    "  - an additive, linear relationship between response and predictors\n",
    "  - uncorrelated predictors\n",
    "  - uncorrelated, homoskedastic, normally-distributed errors\n",
    "  \n",
    "Regression topics:\n",
    "\n",
    "  - specification: choosing variables to include and the functional form\n",
    "  - transformation: pre-processing to improve linear fit (log, power, etc) and feature scaling\n",
    "  - estimation: using an algorithm (such as OLS, WLS, MLE, etc) to estimate (aka, fit or train) your model's parameters\n",
    "  - validation and diagnostics: model's goodness of fit ($R^2$), parameters' statistical significance ($t$-test and $p$-values), check errors and assumptions (diagnostic tests, residual plot, Q-Q plot, etc), outlier influence (leverage), robustness checks (alternative specifications)\n",
    "  - resampling: cross-validation (out-of-sample prediction with train/test subsets) and bootstrapping (random subsampling to generate estimates' distribution)\n",
    "  - model selection and regularization: bias-variance tradeoff (over/under-fitting), lasso (L1 regularization), ridge (L2 regularization), hyperparameters\n",
    "  \n",
    "## 2. Setup and data prep"
   ]
  },
  {
   "cell_type": "code",
   "execution_count": 1,
   "metadata": {},
   "outputs": [
    {
     "name": "stderr",
     "output_type": "stream",
     "text": [
      "/Users/marley/opt/miniconda3/envs/ppd599/lib/python3.9/site-packages/pysal/explore/segregation/network/network.py:15: UserWarning: You need pandana and urbanaccess to work with segregation's network module\n",
      "You can install them with  `pip install urbanaccess pandana` or `conda install -c udst pandana urbanaccess`\n",
      "  warn(\n",
      "/Users/marley/opt/miniconda3/envs/ppd599/lib/python3.9/site-packages/tqdm/auto.py:22: TqdmWarning: IProgress not found. Please update jupyter and ipywidgets. See https://ipywidgets.readthedocs.io/en/stable/user_install.html\n",
      "  from .autonotebook import tqdm as notebook_tqdm\n"
     ]
    }
   ],
   "source": [
    "import geopandas as gpd\n",
    "import matplotlib.pyplot as plt\n",
    "import pandas as pd\n",
    "import pysal as ps\n",
    "import numpy as np"
   ]
  },
  {
   "cell_type": "code",
   "execution_count": 3,
   "metadata": {},
   "outputs": [
    {
     "data": {
      "text/plain": [
       "(3108, 57)"
      ]
     },
     "execution_count": 3,
     "metadata": {},
     "output_type": "execute_result"
    }
   ],
   "source": [
    "# load county gdf\n",
    "gdf_us = gpd.read_file('counties_acs').set_index('GEOID')\n",
    "\n",
    "# use USA Contiguous Equidistant Conic projection\n",
    "us_crs = 'ESRI:102005'\n",
    "gdf_us = gdf_us.to_crs(us_crs)\n",
    "\n",
    "gdf_us.shape"
   ]
  },
  {
   "cell_type": "code",
   "execution_count": 5,
   "metadata": {},
   "outputs": [
    {
     "data": {
      "text/plain": [
       "Index(['STATEFP', 'COUNTYFP', 'COUNTYNS', 'NAME_SH', 'ALAND', 'AWATER',\n",
       "       'married', 'cohab', 'cohab_chil', 'avg_hhsz', 'pct_unmarp',\n",
       "       'pct_nonrel', 'pct_educ', 'pct_fb', 'NAME', 'unempl', 'avg_com',\n",
       "       'pct_ag', 'pct_manu', 'med_inc', 'inc_pc', 'pct_pov', 'pct_rent',\n",
       "       'pct_no_veh', 'med_homeva', 'med_rent', 'pop', 'sex_ratio', 'pct_20_24',\n",
       "       'pct_25_34', 'pct_un18', 'pct_ov65', 'pct_black', 'pct_asian',\n",
       "       'pct_hisp', 'gini', 'State', 'State Code', 'Region', 'Division',\n",
       "       'Economic_T', 'Metro_Stat', 'Farming_20', 'Mining_201', 'Manufactur',\n",
       "       'Government', 'Recreation', 'Nonspecial', 'TOTRATE', 'EVANRATE',\n",
       "       'BPRTRATE', 'LDSRATE', 'MSLMRATE', 'pct_dem', 'pop_dens', 'pct_20_34',\n",
       "       'geometry', 'med_homeval_k', 'med_rent_k', 'inc_pc_k', 'med_inc_k',\n",
       "       'log_pop'],\n",
       "      dtype='object')"
      ]
     },
     "execution_count": 5,
     "metadata": {},
     "output_type": "execute_result"
    }
   ],
   "source": [
    "gdf_us.columns"
   ]
  },
  {
   "cell_type": "code",
   "execution_count": 4,
   "metadata": {},
   "outputs": [],
   "source": [
    "gdf_us['med_homeval_k'] = gdf_us['med_homeva']/1000\n",
    "gdf_us['med_rent_k'] = gdf_us['med_rent']/1000\n",
    "gdf_us['inc_pc_k'] = gdf_us['inc_pc']/1000\n",
    "gdf_us['med_inc_k'] = gdf_us['inc_pc']/1000\n",
    "gdf_us['log_pop'] = np.log(gdf_us['pop'])"
   ]
  },
  {
   "cell_type": "code",
   "execution_count": 15,
   "metadata": {},
   "outputs": [],
   "source": [
    "# choose which variables to use as predictors\n",
    "econ = ['med_homeval_k', 'med_rent_k', 'gini', 'med_inc_k', 'pct_pov']\n",
    "demo = ['pct_20_34', 'pct_fb', 'pct_black', 'pct_hisp', 'pct_asian']\n",
    "social = ['pct_educ', 'pct_manu', 'pct_ag', 'unempl', 'log_pop', 'TOTRATE', 'pct_dem', 'Metro_Stat']\n",
    "#relig = ['EVANRATE', 'BPRTRATE', 'LDSRATE', 'MSLMRATE']\n",
    "predictors = econ + demo + social\n",
    "\n",
    "# choose a response variable\n",
    "response = 'cohab'\n",
    "#response = 'married'"
   ]
  },
  {
   "cell_type": "code",
   "execution_count": 16,
   "metadata": {},
   "outputs": [
    {
     "data": {
      "text/html": [
       "<div>\n",
       "<style scoped>\n",
       "    .dataframe tbody tr th:only-of-type {\n",
       "        vertical-align: middle;\n",
       "    }\n",
       "\n",
       "    .dataframe tbody tr th {\n",
       "        vertical-align: top;\n",
       "    }\n",
       "\n",
       "    .dataframe thead th {\n",
       "        text-align: right;\n",
       "    }\n",
       "</style>\n",
       "<table border=\"1\" class=\"dataframe\">\n",
       "  <thead>\n",
       "    <tr style=\"text-align: right;\">\n",
       "      <th></th>\n",
       "      <th>count</th>\n",
       "      <th>mean</th>\n",
       "      <th>std</th>\n",
       "      <th>min</th>\n",
       "      <th>25%</th>\n",
       "      <th>50%</th>\n",
       "      <th>75%</th>\n",
       "      <th>max</th>\n",
       "    </tr>\n",
       "  </thead>\n",
       "  <tbody>\n",
       "    <tr>\n",
       "      <th>cohab</th>\n",
       "      <td>3108.0</td>\n",
       "      <td>5.80</td>\n",
       "      <td>1.84</td>\n",
       "      <td>0.00</td>\n",
       "      <td>4.60</td>\n",
       "      <td>5.80</td>\n",
       "      <td>7.00</td>\n",
       "      <td>16.60</td>\n",
       "    </tr>\n",
       "    <tr>\n",
       "      <th>med_homeval_k</th>\n",
       "      <td>3104.0</td>\n",
       "      <td>160.02</td>\n",
       "      <td>99.51</td>\n",
       "      <td>22.80</td>\n",
       "      <td>101.30</td>\n",
       "      <td>133.15</td>\n",
       "      <td>183.52</td>\n",
       "      <td>1163.10</td>\n",
       "    </tr>\n",
       "    <tr>\n",
       "      <th>med_rent_k</th>\n",
       "      <td>3098.0</td>\n",
       "      <td>0.79</td>\n",
       "      <td>0.23</td>\n",
       "      <td>0.32</td>\n",
       "      <td>0.65</td>\n",
       "      <td>0.72</td>\n",
       "      <td>0.86</td>\n",
       "      <td>2.44</td>\n",
       "    </tr>\n",
       "    <tr>\n",
       "      <th>gini</th>\n",
       "      <td>3108.0</td>\n",
       "      <td>0.45</td>\n",
       "      <td>0.04</td>\n",
       "      <td>0.32</td>\n",
       "      <td>0.42</td>\n",
       "      <td>0.44</td>\n",
       "      <td>0.47</td>\n",
       "      <td>0.71</td>\n",
       "    </tr>\n",
       "    <tr>\n",
       "      <th>med_inc_k</th>\n",
       "      <td>3108.0</td>\n",
       "      <td>29.01</td>\n",
       "      <td>7.02</td>\n",
       "      <td>10.28</td>\n",
       "      <td>24.42</td>\n",
       "      <td>28.03</td>\n",
       "      <td>32.24</td>\n",
       "      <td>78.77</td>\n",
       "    </tr>\n",
       "    <tr>\n",
       "      <th>pct_pov</th>\n",
       "      <td>3108.0</td>\n",
       "      <td>14.63</td>\n",
       "      <td>6.18</td>\n",
       "      <td>0.00</td>\n",
       "      <td>10.30</td>\n",
       "      <td>13.70</td>\n",
       "      <td>17.80</td>\n",
       "      <td>58.90</td>\n",
       "    </tr>\n",
       "    <tr>\n",
       "      <th>pct_20_34</th>\n",
       "      <td>3108.0</td>\n",
       "      <td>17.93</td>\n",
       "      <td>3.78</td>\n",
       "      <td>3.80</td>\n",
       "      <td>15.70</td>\n",
       "      <td>17.40</td>\n",
       "      <td>19.40</td>\n",
       "      <td>45.40</td>\n",
       "    </tr>\n",
       "    <tr>\n",
       "      <th>pct_fb</th>\n",
       "      <td>3108.0</td>\n",
       "      <td>4.73</td>\n",
       "      <td>5.68</td>\n",
       "      <td>0.00</td>\n",
       "      <td>1.40</td>\n",
       "      <td>2.70</td>\n",
       "      <td>5.60</td>\n",
       "      <td>53.70</td>\n",
       "    </tr>\n",
       "    <tr>\n",
       "      <th>pct_black</th>\n",
       "      <td>3108.0</td>\n",
       "      <td>9.10</td>\n",
       "      <td>14.51</td>\n",
       "      <td>0.00</td>\n",
       "      <td>0.70</td>\n",
       "      <td>2.30</td>\n",
       "      <td>10.20</td>\n",
       "      <td>87.80</td>\n",
       "    </tr>\n",
       "    <tr>\n",
       "      <th>pct_hisp</th>\n",
       "      <td>3108.0</td>\n",
       "      <td>9.62</td>\n",
       "      <td>13.98</td>\n",
       "      <td>0.00</td>\n",
       "      <td>2.30</td>\n",
       "      <td>4.40</td>\n",
       "      <td>10.00</td>\n",
       "      <td>98.90</td>\n",
       "    </tr>\n",
       "    <tr>\n",
       "      <th>pct_asian</th>\n",
       "      <td>3108.0</td>\n",
       "      <td>1.33</td>\n",
       "      <td>2.46</td>\n",
       "      <td>0.00</td>\n",
       "      <td>0.30</td>\n",
       "      <td>0.60</td>\n",
       "      <td>1.30</td>\n",
       "      <td>37.70</td>\n",
       "    </tr>\n",
       "    <tr>\n",
       "      <th>pct_educ</th>\n",
       "      <td>3108.0</td>\n",
       "      <td>21.95</td>\n",
       "      <td>9.58</td>\n",
       "      <td>0.00</td>\n",
       "      <td>15.30</td>\n",
       "      <td>19.55</td>\n",
       "      <td>26.00</td>\n",
       "      <td>77.60</td>\n",
       "    </tr>\n",
       "    <tr>\n",
       "      <th>pct_manu</th>\n",
       "      <td>3108.0</td>\n",
       "      <td>12.25</td>\n",
       "      <td>7.06</td>\n",
       "      <td>0.00</td>\n",
       "      <td>6.90</td>\n",
       "      <td>11.30</td>\n",
       "      <td>16.60</td>\n",
       "      <td>45.00</td>\n",
       "    </tr>\n",
       "    <tr>\n",
       "      <th>pct_ag</th>\n",
       "      <td>3108.0</td>\n",
       "      <td>6.35</td>\n",
       "      <td>7.17</td>\n",
       "      <td>0.00</td>\n",
       "      <td>1.70</td>\n",
       "      <td>3.80</td>\n",
       "      <td>8.20</td>\n",
       "      <td>56.60</td>\n",
       "    </tr>\n",
       "    <tr>\n",
       "      <th>unempl</th>\n",
       "      <td>3108.0</td>\n",
       "      <td>5.16</td>\n",
       "      <td>2.52</td>\n",
       "      <td>0.00</td>\n",
       "      <td>3.60</td>\n",
       "      <td>4.90</td>\n",
       "      <td>6.30</td>\n",
       "      <td>30.40</td>\n",
       "    </tr>\n",
       "    <tr>\n",
       "      <th>log_pop</th>\n",
       "      <td>3108.0</td>\n",
       "      <td>10.28</td>\n",
       "      <td>1.49</td>\n",
       "      <td>4.76</td>\n",
       "      <td>9.32</td>\n",
       "      <td>10.17</td>\n",
       "      <td>11.13</td>\n",
       "      <td>16.12</td>\n",
       "    </tr>\n",
       "    <tr>\n",
       "      <th>TOTRATE</th>\n",
       "      <td>3108.0</td>\n",
       "      <td>515.68</td>\n",
       "      <td>181.57</td>\n",
       "      <td>30.65</td>\n",
       "      <td>386.10</td>\n",
       "      <td>498.81</td>\n",
       "      <td>624.68</td>\n",
       "      <td>1924.61</td>\n",
       "    </tr>\n",
       "    <tr>\n",
       "      <th>pct_dem</th>\n",
       "      <td>3107.0</td>\n",
       "      <td>0.31</td>\n",
       "      <td>0.15</td>\n",
       "      <td>0.03</td>\n",
       "      <td>0.20</td>\n",
       "      <td>0.28</td>\n",
       "      <td>0.40</td>\n",
       "      <td>0.91</td>\n",
       "    </tr>\n",
       "    <tr>\n",
       "      <th>Metro_Stat</th>\n",
       "      <td>3108.0</td>\n",
       "      <td>0.37</td>\n",
       "      <td>0.48</td>\n",
       "      <td>0.00</td>\n",
       "      <td>0.00</td>\n",
       "      <td>0.00</td>\n",
       "      <td>1.00</td>\n",
       "      <td>1.00</td>\n",
       "    </tr>\n",
       "  </tbody>\n",
       "</table>\n",
       "</div>"
      ],
      "text/plain": [
       "                count    mean     std    min     25%     50%     75%      max\n",
       "cohab          3108.0    5.80    1.84   0.00    4.60    5.80    7.00    16.60\n",
       "med_homeval_k  3104.0  160.02   99.51  22.80  101.30  133.15  183.52  1163.10\n",
       "med_rent_k     3098.0    0.79    0.23   0.32    0.65    0.72    0.86     2.44\n",
       "gini           3108.0    0.45    0.04   0.32    0.42    0.44    0.47     0.71\n",
       "med_inc_k      3108.0   29.01    7.02  10.28   24.42   28.03   32.24    78.77\n",
       "pct_pov        3108.0   14.63    6.18   0.00   10.30   13.70   17.80    58.90\n",
       "pct_20_34      3108.0   17.93    3.78   3.80   15.70   17.40   19.40    45.40\n",
       "pct_fb         3108.0    4.73    5.68   0.00    1.40    2.70    5.60    53.70\n",
       "pct_black      3108.0    9.10   14.51   0.00    0.70    2.30   10.20    87.80\n",
       "pct_hisp       3108.0    9.62   13.98   0.00    2.30    4.40   10.00    98.90\n",
       "pct_asian      3108.0    1.33    2.46   0.00    0.30    0.60    1.30    37.70\n",
       "pct_educ       3108.0   21.95    9.58   0.00   15.30   19.55   26.00    77.60\n",
       "pct_manu       3108.0   12.25    7.06   0.00    6.90   11.30   16.60    45.00\n",
       "pct_ag         3108.0    6.35    7.17   0.00    1.70    3.80    8.20    56.60\n",
       "unempl         3108.0    5.16    2.52   0.00    3.60    4.90    6.30    30.40\n",
       "log_pop        3108.0   10.28    1.49   4.76    9.32   10.17   11.13    16.12\n",
       "TOTRATE        3108.0  515.68  181.57  30.65  386.10  498.81  624.68  1924.61\n",
       "pct_dem        3107.0    0.31    0.15   0.03    0.20    0.28    0.40     0.91\n",
       "Metro_Stat     3108.0    0.37    0.48   0.00    0.00    0.00    1.00     1.00"
      ]
     },
     "execution_count": 16,
     "metadata": {},
     "output_type": "execute_result"
    }
   ],
   "source": [
    "# inspect the descriptive stats for your model's variables\n",
    "gdf_us[[response] + predictors].describe().T.round(2)"
   ]
  },
  {
   "cell_type": "code",
   "execution_count": 12,
   "metadata": {},
   "outputs": [],
   "source": [
    "# interpolate missing med_homeval_k, med_rent_k, and pct_dem (maybe)"
   ]
  },
  {
   "cell_type": "code",
   "execution_count": 17,
   "metadata": {},
   "outputs": [],
   "source": [
    "# create design matrix of predictors (drop nulls) and response matrix\n",
    "X = gdf_us[predictors].dropna()\n",
    "Y = gdf_us.loc[X.index][[response]]"
   ]
  },
  {
   "cell_type": "code",
   "execution_count": 18,
   "metadata": {},
   "outputs": [
    {
     "name": "stdout",
     "output_type": "stream",
     "text": [
      "REGRESSION\n",
      "----------\n",
      "SUMMARY OF OUTPUT: ORDINARY LEAST SQUARES\n",
      "-----------------------------------------\n",
      "Data set            :    counties\n",
      "Weights matrix      :        None\n",
      "Dependent Variable  :       cohab                Number of Observations:        3095\n",
      "Mean dependent var  :      5.8112                Number of Variables   :          19\n",
      "S.D. dependent var  :      1.8307                Degrees of Freedom    :        3076\n",
      "R-squared           :      0.3367\n",
      "Adjusted R-squared  :      0.3328\n",
      "Sum squared residual:    6878.612                F-statistic           :     86.7314\n",
      "Sigma-square        :       2.236                Prob(F-statistic)     :  8.889e-258\n",
      "S.E. of regression  :       1.495                Log likelihood        :   -5627.493\n",
      "Sigma-square ML     :       2.222                Akaike info criterion :   11292.986\n",
      "S.E of regression ML:      1.4908                Schwarz criterion     :   11407.700\n",
      "\n",
      "White Standard Errors\n",
      "------------------------------------------------------------------------------------\n",
      "            Variable     Coefficient       Std.Error     t-Statistic     Probability\n",
      "------------------------------------------------------------------------------------\n",
      "            CONSTANT       2.1688654       0.6284533       3.4511162       0.0005658\n",
      "       med_homeval_k      -0.0030841       0.0006591      -4.6792574       0.0000030\n",
      "          med_rent_k       0.5678475       0.3572414       1.5895347       0.1120425\n",
      "                gini      -7.9967988       1.2959947      -6.1703948       0.0000000\n",
      "           med_inc_k       0.0846319       0.0125617       6.7372695       0.0000000\n",
      "             pct_pov       0.0452181       0.0122451       3.6927422       0.0002257\n",
      "           pct_20_34       0.1141620       0.0126880       8.9976262       0.0000000\n",
      "              pct_fb      -0.0041836       0.0147583      -0.2834767       0.7768305\n",
      "           pct_black      -0.0703355       0.0031826     -22.1000996       0.0000000\n",
      "            pct_hisp      -0.0272623       0.0053588      -5.0873364       0.0000004\n",
      "           pct_asian      -0.0906999       0.0180504      -5.0248216       0.0000005\n",
      "            pct_educ      -0.0805051       0.0068065     -11.8276240       0.0000000\n",
      "            pct_manu       0.0018391       0.0052720       0.3488415       0.7272322\n",
      "              pct_ag       0.0091178       0.0086100       1.0589760       0.2896939\n",
      "              unempl       0.0130643       0.0178647       0.7312925       0.4646562\n",
      "             log_pop       0.3145027       0.0412425       7.6256935       0.0000000\n",
      "             TOTRATE      -0.0009782       0.0001989      -4.9177203       0.0000009\n",
      "             pct_dem       6.8206164       0.3499656      19.4893921       0.0000000\n",
      "          Metro_Stat      -0.3402257       0.0736108      -4.6219524       0.0000040\n",
      "------------------------------------------------------------------------------------\n",
      "\n",
      "REGRESSION DIAGNOSTICS\n",
      "MULTICOLLINEARITY CONDITION NUMBER           89.887\n",
      "\n",
      "TEST ON NORMALITY OF ERRORS\n",
      "TEST                             DF        VALUE           PROB\n",
      "Jarque-Bera                       2         513.587           0.0000\n",
      "\n",
      "DIAGNOSTICS FOR HETEROSKEDASTICITY\n",
      "RANDOM COEFFICIENTS\n",
      "TEST                             DF        VALUE           PROB\n",
      "Breusch-Pagan test               18         616.543           0.0000\n",
      "Koenker-Bassett test             18         323.030           0.0000\n",
      "================================ END OF REPORT =====================================\n"
     ]
    }
   ],
   "source": [
    "# estimate linear regression model with OLS\n",
    "ols = ps.model.spreg.OLS(y=Y.values,\n",
    "                         x=X.values,\n",
    "                         robust='white',\n",
    "                         name_x=X.columns.tolist(),\n",
    "                         name_y=response,\n",
    "                         name_ds='counties')\n",
    "print(ols.summary)"
   ]
  },
  {
   "cell_type": "code",
   "execution_count": 116,
   "metadata": {},
   "outputs": [
    {
     "name": "stderr",
     "output_type": "stream",
     "text": [
      "/Users/marley/opt/miniconda3/envs/ppd599/lib/python3.9/site-packages/pysal/lib/weights/_contW_lists.py:29: ShapelyDeprecationWarning: Iteration over multi-part geometries is deprecated and will be removed in Shapely 2.0. Use the `geoms` property to access the constituent parts of a multi-part geometry.\n",
      "  return list(it.chain(*(_get_boundary_points(part.boundary)\n",
      "/Users/marley/opt/miniconda3/envs/ppd599/lib/python3.9/site-packages/pysal/lib/weights/_contW_lists.py:26: ShapelyDeprecationWarning: Iteration over multi-part geometries is deprecated and will be removed in Shapely 2.0. Use the `geoms` property to access the constituent parts of a multi-part geometry.\n",
      "  return list(it.chain(*(list(zip(*shape.coords.xy))\n"
     ]
    }
   ],
   "source": [
    "labels = gdf_us.index.tolist()\n",
    "w_queen = ps.lib.weights.Queen.from_dataframe(gdf_us, ids=labels, id_order=labels)"
   ]
  },
  {
   "cell_type": "code",
   "execution_count": 121,
   "metadata": {},
   "outputs": [
    {
     "name": "stdout",
     "output_type": "stream",
     "text": [
      "REGRESSION\n",
      "----------\n",
      "SUMMARY OF OUTPUT: ORDINARY LEAST SQUARES\n",
      "-----------------------------------------\n",
      "Data set            :    counties\n",
      "Weights matrix      :        None\n",
      "Dependent Variable  :       cohab                Number of Observations:        3103\n",
      "Mean dependent var  :      5.8046                Number of Variables   :          14\n",
      "S.D. dependent var  :      1.8374                Degrees of Freedom    :        3089\n",
      "R-squared           :      0.3380\n",
      "Adjusted R-squared  :      0.3353\n",
      "Sum squared residual:    6932.482                F-statistic           :    121.3434\n",
      "Sigma-square        :       2.244                Prob(F-statistic)     :  5.866e-265\n",
      "S.E. of regression  :       1.498                Log likelihood        :   -5650.137\n",
      "Sigma-square ML     :       2.234                Akaike info criterion :   11328.275\n",
      "S.E of regression ML:      1.4947                Schwarz criterion     :   11412.836\n",
      "\n",
      "White Standard Errors\n",
      "------------------------------------------------------------------------------------\n",
      "            Variable     Coefficient       Std.Error     t-Statistic     Probability\n",
      "------------------------------------------------------------------------------------\n",
      "            CONSTANT       2.5992788       0.5537453       4.6939969       0.0000028\n",
      "       med_homeval_k      -0.0025362       0.0004862      -5.2167220       0.0000002\n",
      "                gini      -8.5610163       1.2404096      -6.9017656       0.0000000\n",
      "           med_inc_k       0.0927691       0.0120501       7.6986330       0.0000000\n",
      "             pct_pov       0.0500355       0.0113630       4.4033648       0.0000110\n",
      "           pct_20_34       0.1164507       0.0125363       9.2890727       0.0000000\n",
      "           pct_black      -0.0683842       0.0030373     -22.5151678       0.0000000\n",
      "            pct_hisp      -0.0254946       0.0030886      -8.2543760       0.0000000\n",
      "           pct_asian      -0.0876026       0.0123075      -7.1178274       0.0000000\n",
      "            pct_educ      -0.0812317       0.0064166     -12.6596555       0.0000000\n",
      "             log_pop       0.3150548       0.0316937       9.9405994       0.0000000\n",
      "             TOTRATE      -0.0010209       0.0001897      -5.3817844       0.0000001\n",
      "             pct_dem       6.6659179       0.3572922      18.6567694       0.0000000\n",
      "          Metro_Stat      -0.3383022       0.0731886      -4.6223350       0.0000039\n",
      "------------------------------------------------------------------------------------\n",
      "\n",
      "REGRESSION DIAGNOSTICS\n",
      "MULTICOLLINEARITY CONDITION NUMBER           70.559\n",
      "\n",
      "TEST ON NORMALITY OF ERRORS\n",
      "TEST                             DF        VALUE           PROB\n",
      "Jarque-Bera                       2         494.962           0.0000\n",
      "\n",
      "DIAGNOSTICS FOR HETEROSKEDASTICITY\n",
      "RANDOM COEFFICIENTS\n",
      "TEST                             DF        VALUE           PROB\n",
      "Breusch-Pagan test               13         609.991           0.0000\n",
      "Koenker-Bassett test             13         322.599           0.0000\n",
      "================================ END OF REPORT =====================================\n"
     ]
    }
   ],
   "source": [
    "# remove insignificant variables (data driven approach)\n",
    "#insig = ['med_homeval_k', 'med_rent_k', 'gini', 'inc_pc_k', 'pct_fb',\n",
    "#         'pct_manu', 'unempl', 'BPRTRATE', 'MSLMRATE', 'pct_ag']\n",
    "\n",
    "insig = ['med_rent_k', 'pct_fb', 'pct_manu', 'pct_ag', 'unempl']\n",
    "\n",
    "for x in insig:\n",
    "    if x in predictors:\n",
    "        predictors.remove(x)\n",
    "    else:\n",
    "        pass\n",
    "\n",
    "# create design matrix of predictors (drop nulls) and response matrix\n",
    "X = gdf_us[predictors].dropna()\n",
    "Y = gdf_us.loc[X.index][[response]]\n",
    "\n",
    "ols = ps.model.spreg.OLS(y=Y.values,\n",
    "                         x=X.values,\n",
    "                         robust='white',\n",
    "                         name_x=X.columns.tolist(),\n",
    "                         name_y=response,\n",
    "                         name_ds='counties')\n",
    "print(ols.summary)"
   ]
  },
  {
   "cell_type": "code",
   "execution_count": 89,
   "metadata": {},
   "outputs": [
    {
     "data": {
      "text/plain": [
       "3103"
      ]
     },
     "execution_count": 89,
     "metadata": {},
     "output_type": "execute_result"
    }
   ],
   "source": [
    "# grab residuals\n",
    "res = list(map(list,list(ols.u)))\n",
    "residuals = [item for sublist in res for item in sublist]\n",
    "len(residuals)"
   ]
  },
  {
   "cell_type": "code",
   "execution_count": 114,
   "metadata": {},
   "outputs": [
    {
     "data": {
      "image/png": "[encoded data removed]",
      "text/plain": [
       "<Figure size 720x720 with 2 Axes>"
      ]
     },
     "metadata": {
      "needs_background": "light"
     },
     "output_type": "display_data"
    }
   ],
   "source": [
    "# merge and plot global OLS residuals\n",
    "r = gdf_us[predictors].dropna()\n",
    "r = gdf_us.loc[r.index]\n",
    "r['residuals'] = residuals\n",
    "\n",
    "fig, ax = plt.subplots(figsize=(10, 10))\n",
    "r.plot(ax=ax,\n",
    "       column='residuals',\n",
    "       cmap=get_cmap(r['residuals']),\n",
    "       edgecolor='white',\n",
    "       linewidth=0.1,\n",
    "       legend=True,\n",
    "       legend_kwds={'shrink': 0.5})\n",
    "\n",
    "plt.title(label='Residuals')\n",
    "ax.set_axis_off()"
   ]
  },
  {
   "cell_type": "code",
   "execution_count": 122,
   "metadata": {},
   "outputs": [
    {
     "name": "stderr",
     "output_type": "stream",
     "text": [
      "/Users/marley/opt/miniconda3/envs/ppd599/lib/python3.9/site-packages/pysal/lib/weights/_contW_lists.py:29: ShapelyDeprecationWarning: Iteration over multi-part geometries is deprecated and will be removed in Shapely 2.0. Use the `geoms` property to access the constituent parts of a multi-part geometry.\n",
      "  return list(it.chain(*(_get_boundary_points(part.boundary)\n",
      "/Users/marley/opt/miniconda3/envs/ppd599/lib/python3.9/site-packages/pysal/lib/weights/_contW_lists.py:26: ShapelyDeprecationWarning: Iteration over multi-part geometries is deprecated and will be removed in Shapely 2.0. Use the `geoms` property to access the constituent parts of a multi-part geometry.\n",
      "  return list(it.chain(*(list(zip(*shape.coords.xy))\n"
     ]
    }
   ],
   "source": [
    "# morans I on residuals\n",
    "w_queen = ps.lib.weights.Queen.from_dataframe(r[['residuals', 'geometry']])\n",
    "w_queen.set_transform('R')"
   ]
  },
  {
   "cell_type": "code",
   "execution_count": 134,
   "metadata": {},
   "outputs": [
    {
     "data": {
      "text/html": [
       "<div>\n",
       "<style scoped>\n",
       "    .dataframe tbody tr th:only-of-type {\n",
       "        vertical-align: middle;\n",
       "    }\n",
       "\n",
       "    .dataframe tbody tr th {\n",
       "        vertical-align: top;\n",
       "    }\n",
       "\n",
       "    .dataframe thead th {\n",
       "        text-align: right;\n",
       "    }\n",
       "</style>\n",
       "<table border=\"1\" class=\"dataframe\">\n",
       "  <thead>\n",
       "    <tr style=\"text-align: right;\">\n",
       "      <th></th>\n",
       "      <th>residuals</th>\n",
       "      <th>residuals_lag</th>\n",
       "    </tr>\n",
       "    <tr>\n",
       "      <th>GEOID</th>\n",
       "      <th></th>\n",
       "      <th></th>\n",
       "    </tr>\n",
       "  </thead>\n",
       "  <tbody>\n",
       "    <tr>\n",
       "      <th>31039</th>\n",
       "      <td>-2.003939</td>\n",
       "      <td>0.281515</td>\n",
       "    </tr>\n",
       "    <tr>\n",
       "      <th>31109</th>\n",
       "      <td>-0.492186</td>\n",
       "      <td>-0.204109</td>\n",
       "    </tr>\n",
       "    <tr>\n",
       "      <th>31129</th>\n",
       "      <td>-2.025954</td>\n",
       "      <td>-0.594947</td>\n",
       "    </tr>\n",
       "    <tr>\n",
       "      <th>31101</th>\n",
       "      <td>1.133962</td>\n",
       "      <td>-1.191269</td>\n",
       "    </tr>\n",
       "    <tr>\n",
       "      <th>31137</th>\n",
       "      <td>3.054452</td>\n",
       "      <td>1.553937</td>\n",
       "    </tr>\n",
       "  </tbody>\n",
       "</table>\n",
       "</div>"
      ],
      "text/plain": [
       "       residuals  residuals_lag\n",
       "GEOID                          \n",
       "31039  -2.003939       0.281515\n",
       "31109  -0.492186      -0.204109\n",
       "31129  -2.025954      -0.594947\n",
       "31101   1.133962      -1.191269\n",
       "31137   3.054452       1.553937"
      ]
     },
     "execution_count": 134,
     "metadata": {},
     "output_type": "execute_result"
    }
   ],
   "source": [
    "# pick a variable to investigate (and drop null rows)\n",
    "y = r['residuals']\n",
    "r_lag = ps.lib.weights.lag_spatial(w_queen, r['residuals'])\n",
    "\n",
    "col = 'residuals'\n",
    "col_lag = 'residuals_lag'\n",
    "data_lag = pd.DataFrame(data={col:y, col_lag:r_lag}).astype(float)\n",
    "data_lag.head()"
   ]
  },
  {
   "cell_type": "code",
   "execution_count": 133,
   "metadata": {},
   "outputs": [
    {
     "data": {
      "text/plain": [
       "0.15621177532988115"
      ]
     },
     "execution_count": 133,
     "metadata": {},
     "output_type": "execute_result"
    }
   ],
   "source": [
    "# calculate the statistic\n",
    "mi = ps.explore.esda.Moran(data_lag[col], w_queen)\n",
    "mi.I"
   ]
  },
  {
   "cell_type": "markdown",
   "metadata": {},
   "source": [
    "## 5. Geographically weighted regression\n",
    "\n",
    "The problem with global regression models is that they are essentially spatial averages, obfuscating all the local variation in the process you're exploring. GWR allows us to investigate how model parameters and performance vary across the study area. It calibrates a regression model on each observation's local neighborhood then combines these into a global model for the study area. A user-defined *bandwidth* determines how these local models are calibrated: GWR estimates a model for each observation, using all the other observations weighted by their inverse-distance to that observation. The weighting is determined by fitting a *spatial kernel* to the data parameterized by the bandwidth distance.\n",
    "\n",
    "Accordingly, the combination of bandwidth and kernel affects the smoothing (i.e., over-/under-fitting) of your model. Common kernels include the gaussian and bisquare. Bandwidth can be fixed or adaptive. If fixed, then the same distance is used for weighting across every observation's local neighborhood. However, this can introduce problems if your observations vary in density. Consider tracts: a tract in downtown LA may have 100 other tracts within 20km of it, but a tract in the Antelope Valley may have only 2 or 3 (too few for precise estimation). An adaptive bandwidth instead uses a fixed number of nearest neighbors to adjust the bandwidth distance accordingly: tracts in dense areas get a narrower bandwidth distance and tracts in sparse areas get a wider one. For more on GWR, [this book](https://www.wiley.com/en-us/Geographically+Weighted+Regression%3A+The+Analysis+of+Spatially+Varying+Relationships+-p-9780470855256) offers a good gentle introduction.\n",
    "\n",
    "We need to specify fixed vs adaptive bandwidth ([adaptive](https://en.wikipedia.org/wiki/Variable_kernel_density_estimation)), spatial kernel ([gaussian](https://en.wikipedia.org/wiki/Kernel_(statistics)#Kernel_functions_in_common_use)), optimization technique ([golden section](https://en.wikipedia.org/wiki/Golden-section_search)), and a criterion to minimize ([AICc](https://en.wikipedia.org/wiki/Akaike_information_criterion#AICc))."
   ]
  },
  {
   "cell_type": "code",
   "execution_count": null,
   "metadata": {},
   "outputs": [],
   "source": [
    "fixed_kernel = False\n",
    "spatial_kernel = 'gaussian'\n",
    "search = 'golden_section'\n",
    "criterion = 'AICc'"
   ]
  },
  {
   "cell_type": "code",
   "execution_count": null,
   "metadata": {},
   "outputs": [],
   "source": [
    "%%time\n",
    "# select an adaptive (NN) bandwidth for our GWR model, given the data\n",
    "centroids = gdf_us.loc[X.index].centroid\n",
    "coords = list(zip(centroids.x, centroids.y))\n",
    "sel = ps.model.mgwr.sel_bw.Sel_BW(coords=coords,\n",
    "                                  y=Y.values,\n",
    "                                  X_loc=X.values,\n",
    "                                  kernel=spatial_kernel,\n",
    "                                  fixed=fixed_kernel)\n",
    "nn = sel.search(search_method=search, criterion=criterion)"
   ]
  },
  {
   "cell_type": "code",
   "execution_count": null,
   "metadata": {},
   "outputs": [],
   "source": [
    "# what is the selected adaptive bandwidth value?\n",
    "# ie, number of NNs to use to determine locally-varying bandwidth distances\n",
    "nn"
   ]
  },
  {
   "cell_type": "code",
   "execution_count": null,
   "metadata": {},
   "outputs": [],
   "source": [
    "%%time\n",
    "# estimate the GWR model parameters\n",
    "# pass fixed=False to treat bw as number of NNs (adaptive kernel)\n",
    "model = ps.model.mgwr.gwr.GWR(coords=coords,\n",
    "                              y=Y.values,\n",
    "                              X=X.values,\n",
    "                              bw=nn,\n",
    "                              kernel=spatial_kernel,\n",
    "                              fixed=fixed_kernel)\n",
    "gwr = model.fit()"
   ]
  },
  {
   "cell_type": "code",
   "execution_count": null,
   "metadata": {},
   "outputs": [],
   "source": [
    "# inspect the results\n",
    "gwr.summary()"
   ]
  },
  {
   "cell_type": "markdown",
   "metadata": {},
   "source": [
    "Compare the summary statistics across the local models (at bottom of output) to the global model (above)."
   ]
  },
  {
   "cell_type": "code",
   "execution_count": null,
   "metadata": {},
   "outputs": [],
   "source": [
    "# a constant was added, so we'll add it to our predictors\n",
    "cols = ['constant'] + predictors\n",
    "cols"
   ]
  },
  {
   "cell_type": "code",
   "execution_count": null,
   "metadata": {},
   "outputs": [],
   "source": [
    "# turn GWR local parameter estimates into a GeoDataFrame with tract geometries\n",
    "params = pd.DataFrame(gwr.params, columns=cols, index=X.index)\n",
    "params = gdf_us[['geometry']].merge(params, left_index=True, right_index=True, how='right')\n",
    "params.head()"
   ]
  },
  {
   "cell_type": "markdown",
   "metadata": {},
   "source": [
    "A common way to report GWR results is to visualize their spatial distribution.\n",
    "\n",
    "First, we'll create a helper function to generate (properly centered and truncated) colormaps for our subsequent visualizations."
   ]
  },
  {
   "cell_type": "code",
   "execution_count": 113,
   "metadata": {},
   "outputs": [],
   "source": [
    "# helper function to generate colormaps for GWR plots\n",
    "def get_cmap(values, cmap_name='coolwarm', n=256):\n",
    "    import numpy as np\n",
    "    from matplotlib.colors import LinearSegmentedColormap as lsc\n",
    "    name = f'{cmap_name}_new'\n",
    "    cmap = plt.cm.get_cmap(cmap_name)\n",
    "    vmin = values.min()\n",
    "    vmax = values.max()\n",
    "\n",
    "    if vmax < 0:\n",
    "        # if all values are negative, use the negative half of the colormap\n",
    "        return lsc.from_list(name, cmap(np.linspace(0, 0.5, n)))\n",
    "    elif vmin > 0:\n",
    "        # if all values are positive use the positive half of the colormap\n",
    "        return lsc.from_list(name, cmap(np.linspace(0.5, 1, n)))\n",
    "    else:\n",
    "        # otherwise there are positive and negative values so use zero as midpoint\n",
    "        # and truncate the colormap such that if the original spans ± the greatest\n",
    "        # absolute value, we only use colors from it spanning vmin to vmax\n",
    "        abs_max = max(values.abs())\n",
    "        start = (vmin + abs_max) / (abs_max * 2)\n",
    "        stop = (vmax + abs_max) / (abs_max * 2)\n",
    "        return lsc.from_list(name, cmap(np.linspace(start, stop, n)))"
   ]
  },
  {
   "cell_type": "code",
   "execution_count": null,
   "metadata": {},
   "outputs": [],
   "source": [
    "len(predictors)"
   ]
  },
  {
   "cell_type": "code",
   "execution_count": null,
   "metadata": {},
   "outputs": [],
   "source": [
    "# plot the spatial distribution of local parameter estimates\n",
    "# set nrows, ncols to match your number of predictors!\n",
    "fig, axes = plt.subplots(nrows=6, ncols=2, figsize=(10, 10))\n",
    "for col, ax in zip(predictors, axes.flat):\n",
    "    ax.set_aspect('equal')\n",
    "    ax.axis('off')\n",
    "    ax.set_title(f'Local {col} coefficients')\n",
    "    gdf = params.dropna(subset=[col], axis='rows')\n",
    "    ax = gdf.plot(ax=ax,\n",
    "                  column=col,\n",
    "                  cmap=get_cmap(gdf[col]),\n",
    "                  legend=True,\n",
    "                  legend_kwds={'shrink': 0.6})\n",
    "fig.tight_layout()"
   ]
  },
  {
   "cell_type": "markdown",
   "metadata": {},
   "source": [
    "Above are our locally-varying parameter estimates. But they're not all statistically significantly different from zero. Where are they (in-)significant?"
   ]
  },
  {
   "cell_type": "code",
   "execution_count": null,
   "metadata": {},
   "outputs": [],
   "source": [
    "# turn GWR local t-values into a GeoDataFrame with tract geometries\n",
    "# set t-values below significance threshold to zero then clip to ± 4\n",
    "# p<.05 corresponds to |t|>1.96, and |t|>4 corresponds to p<.0001\n",
    "tvals = pd.DataFrame(gwr.filter_tvals(alpha=0.05), columns=cols, index=X.index).clip(-4, 4)\n",
    "tvals = gdf_us[['geometry']].merge(tvals, left_index=True, right_index=True, how='right')\n",
    "\n",
    "# plot the spatial distribution of local t-values\n",
    "fig, axes = plt.subplots(nrows=6, ncols=2, figsize=(10, 10))\n",
    "for col, ax in zip(predictors, axes.flat):\n",
    "    ax.set_aspect('equal')\n",
    "    ax.axis('off')\n",
    "    ax.set_title(f'Local {col} $t$ values')\n",
    "    gdf = tvals.dropna(subset=[col], axis='rows')\n",
    "    ax = gdf.plot(ax=ax,\n",
    "                  column=col,\n",
    "                  cmap=get_cmap(gdf[col]),\n",
    "                  legend=True,\n",
    "                  legend_kwds={'shrink': 0.6})\n",
    "fig.tight_layout()"
   ]
  },
  {
   "cell_type": "markdown",
   "metadata": {},
   "source": [
    "How well does our model perform across the study area?"
   ]
  },
  {
   "cell_type": "code",
   "execution_count": null,
   "metadata": {},
   "outputs": [],
   "source": [
    "# turn GWR local R-squared values into a GeoDataFrame with tract geometries\n",
    "col = 'Local $R^2$ values'\n",
    "r_squared = pd.DataFrame(gwr.localR2, index=X.index, columns=[col])\n",
    "r_squared = gdf_us[['geometry']].merge(r_squared, left_index=True, right_index=True, how='right')\n",
    "\n",
    "# plot the spatial distribution of local R-squared values\n",
    "fig, ax = plt.subplots(figsize=(5, 5))\n",
    "ax.set_aspect('equal')\n",
    "ax.axis('off')\n",
    "ax.set_title(col)\n",
    "gdf = r_squared.dropna(subset=[col], axis='rows')\n",
    "ax = gdf.plot(ax=ax,\n",
    "              column=col,\n",
    "              cmap='Reds',\n",
    "              legend=True,\n",
    "              legend_kwds={'shrink': 0.6})\n",
    "fig.tight_layout()"
   ]
  },
  {
   "cell_type": "code",
   "execution_count": null,
   "metadata": {},
   "outputs": [],
   "source": [
    "# now it's your turn\n",
    "# try increasing or decreasing the nearest neighbors bandwidth value above\n",
    "# how does that change the model's results and visualizations?\n"
   ]
  },
  {
   "cell_type": "markdown",
   "metadata": {},
   "source": [
    "## 6. Spatial diagnostics\n",
    "\n",
    "So far we've seen different spatial heterogeneity models. Now we'll explore spatial dependence (modeling interdependencies between observations over space), starting by using queen-contiguity spatial weights to model spatial relationships between observations and OLS to check diagnostics."
   ]
  },
  {
   "cell_type": "code",
   "execution_count": null,
   "metadata": {},
   "outputs": [],
   "source": [
    "# compute spatial weights for only those tracts that appear in design matrix\n",
    "W = ps.lib.weights.Queen.from_dataframe(gdf_us.loc[X.index])\n",
    "W.transform = 'r'"
   ]
  },
  {
   "cell_type": "code",
   "execution_count": null,
   "metadata": {},
   "outputs": [],
   "source": [
    "# compute OLS spatial diagnostics to check the nature of spatial dependence\n",
    "ols = ps.model.spreg.OLS(y=Y.values,\n",
    "                         x=X.values,\n",
    "                         w=W,\n",
    "                         spat_diag=True,\n",
    "                         moran=True)"
   ]
  },
  {
   "cell_type": "code",
   "execution_count": null,
   "metadata": {},
   "outputs": [],
   "source": [
    "# calculate moran's I (for the response) and its significance\n",
    "mi = ps.explore.esda.Moran(y=Y, w=W, two_tailed=True)\n",
    "print(mi.I)\n",
    "print(mi.p_sim)"
   ]
  },
  {
   "cell_type": "code",
   "execution_count": null,
   "metadata": {},
   "outputs": [],
   "source": [
    "# moran's I (for the residuals): moran's i, standardized i, p-value\n",
    "ols.moran_res"
   ]
  },
  {
   "cell_type": "markdown",
   "metadata": {},
   "source": [
    "Interpreting the results: a significant Moran's *I* suggests spatial autocorrelation, but doesn't tell us which alternative specification should be used. Lagrange Multiplier (LM) diagnostics can help with that. If one LM test is significant and the other isn't, then that tells us which model specification (spatial lag vs spatial error) to use."
   ]
  },
  {
   "cell_type": "code",
   "execution_count": null,
   "metadata": {},
   "outputs": [],
   "source": [
    "# lagrange multiplier test for spatial lag model: stat, p\n",
    "ols.lm_lag"
   ]
  },
  {
   "cell_type": "code",
   "execution_count": null,
   "metadata": {},
   "outputs": [],
   "source": [
    "# lagrange multiplier test for spatial error model: stat, p\n",
    "ols.lm_error"
   ]
  },
  {
   "cell_type": "markdown",
   "metadata": {},
   "source": [
    "Interpreting the results: if (and only if) both the LM tests produce significant statistics, try the robust versions (the nonrobust LM tests are sensitive to each other)."
   ]
  },
  {
   "cell_type": "code",
   "execution_count": null,
   "metadata": {},
   "outputs": [],
   "source": [
    "# robust lagrange multiplier test for spatial lag model: stat, p\n",
    "ols.rlm_lag"
   ]
  },
  {
   "cell_type": "code",
   "execution_count": null,
   "metadata": {},
   "outputs": [],
   "source": [
    "# robust lagrange multiplier test for spatial error model: stat, p\n",
    "ols.rlm_error"
   ]
  },
  {
   "cell_type": "markdown",
   "metadata": {},
   "source": [
    "So... which model specification to choose? Workflow:\n",
    "\n",
    "  1. If neither LM test is significant: use regular OLS.\n",
    "  2. If only one LM test is significant: use that model spec.\n",
    "  3. If both LM tests are significant: run robust versions.\n",
    "  4. If only one robust LM test is significant: use that model spec.\n",
    "  5. If both robust LM tests are significant (this can often happen with large sample sizes):\n",
    "     1. first consider if the initial model specification is actually a good fit\n",
    "     2. if so, use the spatial specification corresponding to the larger robust-LM statistic\n",
    "     3. or consider a combo model\n",
    "\n",
    "A hint for our working example here: our model is *not* well-specified!\n",
    "\n",
    "## 7. Spatial lag model\n",
    "\n",
    "When the diagnostics indicate the presence of a spatial diffusion process. Uses the spatially-lagged endogenous variable as a predictor. Because of endogeneity, cannot use OLS to estimate.\n",
    "\n",
    "Model specification:\n",
    "\n",
    "$y = \\rho W y + \\beta X + u$\n",
    "\n",
    "where $y$ is a $n \\times 1$ vector of observations (response), $W$ is a $n \\times n$ spatial weights matrix (thus $Wy$ is the spatially-lagged response), $\\rho$ is the spatial autoregressive parameter to be estimated, $X$ is a $n \\times k$ matrix of observations (exogenous predictors), $\\beta$ is a $k \\times 1$ vector of parameters (coefficients) to be estimated, and $u$ is a $n \\times 1$ vector of errors."
   ]
  },
  {
   "cell_type": "code",
   "execution_count": null,
   "metadata": {},
   "outputs": [],
   "source": [
    "# maximum-likelihood estimation with full matrix expression\n",
    "mll = ps.model.spreg.ML_Lag(y=Y.values,\n",
    "                            x=X.values,\n",
    "                            w=W,\n",
    "                            method='full',\n",
    "                            name_w='queen',\n",
    "                            name_x=X.columns.tolist(),\n",
    "                            name_y=response,\n",
    "                            name_ds='tracts')\n",
    "print(mll.summary)"
   ]
  },
  {
   "cell_type": "code",
   "execution_count": null,
   "metadata": {},
   "outputs": [],
   "source": [
    "# the spatial autoregressive parameter estimate, rho\n",
    "mll.rho"
   ]
  },
  {
   "cell_type": "markdown",
   "metadata": {},
   "source": [
    "Remember, from my assigned [JAPA article](https://osf.io/t9um6), that the interpretation of spatial-lag models is tricky:\n",
    "\n",
    "> Due to spatial spillover, each coefficient alone does not represent the marginal effect on the response of a unit increase in the predictor. Instead, it represents the direct effect: what happens locally if you make a unit change in the predictor only in one tract. But also present are indirect effects: local spillovers in each tract from a unit predictor change in other tracts.\n",
    "\n",
    "Refer to the article for details on how to calculate and interpret total effects.\n",
    "\n",
    "## 8. Spatial error model\n",
    "\n",
    "When the diagnostics indicate the presence of spatial error dependence (spatial effects in error term).\n",
    "\n",
    "Model specification:\n",
    "\n",
    "$y = \\beta X + u$\n",
    "\n",
    "where $X$ is a $n \\times k$ matrix of observations (exogenous predictors), $\\beta$ is a $k \\times 1$ vector of parameters (coefficients) to be estimated, and $u$ is a $n \\times 1$ vector of spatially autocorrelated errors. The errors $u$ follow a spatial autoregressive specification:\n",
    "\n",
    "$u = \\lambda Wu + \\epsilon$\n",
    "\n",
    "where $\\lambda$ is a spatial autoregressive parameter to be estimated and $\\epsilon$ is the vector of uncorrelated errors."
   ]
  },
  {
   "cell_type": "code",
   "execution_count": null,
   "metadata": {},
   "outputs": [],
   "source": [
    "# maximum-likelihood estimation with full matrix expression\n",
    "mle = ps.model.spreg.ML_Error(y=Y.values,\n",
    "                              x=X.values,\n",
    "                              w=W,\n",
    "                              method='full',\n",
    "                              name_w='queen',\n",
    "                              name_x=X.columns.tolist(),\n",
    "                              name_y=response,\n",
    "                              name_ds='tracts')\n",
    "print(mle.summary)"
   ]
  },
  {
   "cell_type": "code",
   "execution_count": null,
   "metadata": {},
   "outputs": [],
   "source": [
    "# the spatial autoregressive parameter estimate, lambda\n",
    "mle.lam"
   ]
  },
  {
   "cell_type": "code",
   "execution_count": null,
   "metadata": {},
   "outputs": [],
   "source": [
    "# now it's your turn\n",
    "# re-calculate the spatial weights matrix using distance bands and linear decay\n",
    "# how does that change the diagnostics, lag model, and error model results?\n"
   ]
  },
  {
   "cell_type": "markdown",
   "metadata": {},
   "source": [
    "## 9. Spatial lag+error combo model\n",
    "\n",
    "Estimated with GMM (generalized method of moments). Essentially a spatial error model with endogenous explanatory variables.\n",
    "\n",
    "Model specification:\n",
    "\n",
    "$y = \\rho W y + \\beta X + u$\n",
    "\n",
    "where $y$ is a $n \\times 1$ vector of observations (response), $W$ is a $n \\times n$ spatial weights matrix (thus $Wy$ is the spatially-lagged response), $\\rho$ is the spatial autoregressive parameter to be estimated, $X$ is a $n \\times k$ matrix of observations (exogenous predictors), $\\beta$ is a $k \\times 1$ vector of parameters (coefficients) to be estimated, and $u$ is a $n \\times 1$ vector of spatially autocorrelated errors.\n",
    "\n",
    "The errors $u$ follow a spatial autoregressive specification:\n",
    "\n",
    "$u = \\lambda Wu + \\epsilon$\n",
    "\n",
    "where $\\lambda$ is a spatial autoregressive parameter to be estimated and $\\epsilon$ is the vector of uncorrelated errors."
   ]
  },
  {
   "cell_type": "code",
   "execution_count": null,
   "metadata": {},
   "outputs": [],
   "source": [
    "gmc = ps.model.spreg.GM_Combo_Het(y=Y.values,\n",
    "                                  x=X.values,\n",
    "                                  w=W,\n",
    "                                  name_w='queen',\n",
    "                                  name_ds='tracts',\n",
    "                                  name_x=X.columns.tolist(),\n",
    "                                  name_y=response)\n",
    "print(gmc.summary)"
   ]
  },
  {
   "cell_type": "markdown",
   "metadata": {},
   "source": [
    "## Wrap up\n",
    "\n",
    "This has been a tour of different spatially-explicit modeling methods. Your results will only be as good as your initial model's specification! Are the OLS assumptions met? Did we choose theoretically sound predictors that are relatively uncorrelated with each other? Are our variables properly transformed for the best linear fit? In our working example today: no!\n",
    "\n",
    "As a **self-paced exercise**, try including better predictors in the model. Transform them for a better linear fit with the response. Then see how this affects our spatial model results and interpretations."
   ]
  },
  {
   "cell_type": "code",
   "execution_count": null,
   "metadata": {},
   "outputs": [],
   "source": []
  }
 ],
 "metadata": {
  "kernelspec": {
   "display_name": "Python (ppd599)",
   "language": "python",
   "name": "ppd599"
  },
  "language_info": {
   "codemirror_mode": {
    "name": "ipython",
    "version": 3
   },
   "file_extension": ".py",
   "mimetype": "text/x-python",
   "name": "python",
   "nbconvert_exporter": "python",
   "pygments_lexer": "ipython3",
   "version": "3.9.2"
  }
 },
 "nbformat": 4,
 "nbformat_minor": 4
}
